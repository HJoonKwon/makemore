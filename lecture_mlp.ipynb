{
 "cells": [
  {
   "cell_type": "code",
   "execution_count": 1,
   "id": "09119368-d62c-4be3-bd03-af7928f0f742",
   "metadata": {},
   "outputs": [],
   "source": [
    "import torch \n",
    "import torch.nn.functional as F \n",
    "import matplotlib.pyplot as plt \n",
    "%matplotlib inline "
   ]
  },
  {
   "cell_type": "code",
   "execution_count": 4,
   "id": "c33e3eff-9472-4b7d-8dcd-cdea26d98848",
   "metadata": {},
   "outputs": [
    {
     "data": {
      "text/plain": [
       "['emma', 'olivia', 'ava', 'isabella', 'sophia', 'charlotte', 'mia', 'amelia']"
      ]
     },
     "execution_count": 4,
     "metadata": {},
     "output_type": "execute_result"
    }
   ],
   "source": [
    "words = open('names.txt', 'r').read().splitlines() \n",
    "words[:8]"
   ]
  },
  {
   "cell_type": "code",
   "execution_count": 5,
   "id": "83fa978a-b4af-4d97-b6cf-df8451627521",
   "metadata": {},
   "outputs": [
    {
     "data": {
      "text/plain": [
       "32033"
      ]
     },
     "execution_count": 5,
     "metadata": {},
     "output_type": "execute_result"
    }
   ],
   "source": [
    "len(words)"
   ]
  },
  {
   "cell_type": "code",
   "execution_count": 16,
   "id": "2140aa25-4171-4a5a-99b2-54778f7fd99e",
   "metadata": {},
   "outputs": [
    {
     "name": "stdout",
     "output_type": "stream",
     "text": [
      "{1: 'a', 2: 'b', 3: 'c', 4: 'd', 5: 'e', 6: 'f', 7: 'g', 8: 'h', 9: 'i', 10: 'j', 11: 'k', 12: 'l', 13: 'm', 14: 'n', 15: 'o', 16: 'p', 17: 'q', 18: 'r', 19: 's', 20: 't', 21: 'u', 22: 'v', 23: 'w', 24: 'x', 25: 'y', 26: 'z', 0: '.'}\n"
     ]
    }
   ],
   "source": [
    "# build vocabulary of characters \n",
    "chars = sorted(list(set(''.join(word for word in words))))\n",
    "stoi = {ch: i+1 for i, ch in enumerate(chars)}\n",
    "stoi['.'] = 0 \n",
    "itos = {i: ch for ch, i in stoi.items()}\n",
    "print(itos)"
   ]
  },
  {
   "cell_type": "code",
   "execution_count": 24,
   "id": "1ba3c7ca-287e-4db3-a4b0-a802f6d8100e",
   "metadata": {},
   "outputs": [
    {
     "name": "stdout",
     "output_type": "stream",
     "text": [
      "emma\n",
      "... ------> e\n",
      "..e ------> m\n",
      ".em ------> m\n",
      "emm ------> a\n",
      "mma ------> .\n",
      "olivia\n",
      "... ------> o\n",
      "..o ------> l\n",
      ".ol ------> i\n",
      "oli ------> v\n",
      "liv ------> i\n",
      "ivi ------> a\n",
      "via ------> .\n",
      "ava\n",
      "... ------> a\n",
      "..a ------> v\n",
      ".av ------> a\n",
      "ava ------> .\n",
      "isabella\n",
      "... ------> i\n",
      "..i ------> s\n",
      ".is ------> a\n",
      "isa ------> b\n",
      "sab ------> e\n",
      "abe ------> l\n",
      "bel ------> l\n",
      "ell ------> a\n",
      "lla ------> .\n",
      "sophia\n",
      "... ------> s\n",
      "..s ------> o\n",
      ".so ------> p\n",
      "sop ------> h\n",
      "oph ------> i\n",
      "phi ------> a\n",
      "hia ------> .\n"
     ]
    }
   ],
   "source": [
    "# build the dataset \n",
    "\n",
    "block_size = 3 # how many characters to take to predict the next character \n",
    "X, Y = [], [] \n",
    "\n",
    "for word in words[:5]:\n",
    "    print(word)\n",
    "    context = [0] * block_size \n",
    "    for ch in word + '.':\n",
    "        ix = stoi[ch]\n",
    "        X.append(context)\n",
    "        Y.append(ix) \n",
    "        print(''.join(itos[i] for i in context), '------>', itos[ix])    \n",
    "        context = context[1:] + [ix]\n",
    "\n",
    "X = torch.tensor(X)\n",
    "Y = torch.tensor(Y)"
   ]
  },
  {
   "cell_type": "code",
   "execution_count": 26,
   "id": "1131d223-b935-4f23-b8f6-2e4fa8084c73",
   "metadata": {},
   "outputs": [
    {
     "data": {
      "text/plain": [
       "(torch.Size([32, 3]), torch.int64, torch.Size([32]), torch.int64)"
      ]
     },
     "execution_count": 26,
     "metadata": {},
     "output_type": "execute_result"
    }
   ],
   "source": [
    "X.shape, X.dtype, Y.shape, Y.dtype"
   ]
  },
  {
   "cell_type": "code",
   "execution_count": 31,
   "id": "ecb9343f-4035-408b-9038-dc326d4ade92",
   "metadata": {},
   "outputs": [],
   "source": [
    "C = torch.randn((27, 2)) # embedding vectors "
   ]
  },
  {
   "cell_type": "code",
   "execution_count": 35,
   "id": "3722d4b1-0589-4a7a-935f-a354dbe5bf6e",
   "metadata": {},
   "outputs": [
    {
     "data": {
      "text/plain": [
       "tensor([ 0.2433, -0.2403])"
      ]
     },
     "execution_count": 35,
     "metadata": {},
     "output_type": "execute_result"
    }
   ],
   "source": [
    "# 1. One way of getting embedding vector is to pluck out with index \n",
    "C[5]"
   ]
  },
  {
   "cell_type": "code",
   "execution_count": 37,
   "id": "8b386470-590d-4bb6-854c-b31cdde28b23",
   "metadata": {},
   "outputs": [
    {
     "data": {
      "text/plain": [
       "tensor([ 0.2433, -0.2403])"
      ]
     },
     "execution_count": 37,
     "metadata": {},
     "output_type": "execute_result"
    }
   ],
   "source": [
    "# 2. The other way is using one hot vector and do matrix multiplication --> same result, but inefficient.  \n",
    "xenc = F.one_hot(torch.tensor(5), num_classes = 27).float()\n",
    "xenc @ C "
   ]
  },
  {
   "cell_type": "code",
   "execution_count": 39,
   "id": "e9505ae3-a1e7-4476-8cb7-b98ef5adf212",
   "metadata": {},
   "outputs": [
    {
     "data": {
      "text/plain": [
       "torch.Size([32, 3, 2])"
      ]
     },
     "execution_count": 39,
     "metadata": {},
     "output_type": "execute_result"
    }
   ],
   "source": [
    "C[X].shape # indexing can be multi-dimensional --> num of examples x num of chars x embed dim "
   ]
  },
  {
   "cell_type": "code",
   "execution_count": 45,
   "id": "e0df8f8b-8b15-42f1-802d-d8435ffff680",
   "metadata": {},
   "outputs": [
    {
     "data": {
      "text/plain": [
       "tensor([True, True])"
      ]
     },
     "execution_count": 45,
     "metadata": {},
     "output_type": "execute_result"
    }
   ],
   "source": [
    "C[X][13,2] == C[X[13,2]]"
   ]
  },
  {
   "cell_type": "code",
   "execution_count": 69,
   "id": "36f2eb4d-d4f8-41a1-bef4-5283c87da0df",
   "metadata": {},
   "outputs": [
    {
     "name": "stdout",
     "output_type": "stream",
     "text": [
      "torch.Size([32, 3, 2])\n",
      "tensor(True)\n",
      "torch.Size([32, 6])\n"
     ]
    }
   ],
   "source": [
    "emb = C[X] \n",
    "print(emb.shape)\n",
    "print((emb.view(-1, 6) == torch.concat(torch.unbind(emb, 1), 1)).all()) # (32 x 3 x 2) --> unbind(1) --> (32 x 2), (32 x 2), (32 x 2) --> concat --> (32 x 6) \n",
    "# view() is more efficient than unbind+concat. Does not have to create/copy/move data/memory.  \n",
    "print(emb.view(-1, 6).shape)"
   ]
  },
  {
   "cell_type": "code",
   "execution_count": 70,
   "id": "36a49f70-d3ef-4fd4-a7f2-90faca4d91ef",
   "metadata": {},
   "outputs": [],
   "source": [
    "W1 = torch.randn(6, 100)\n",
    "b1 = torch.randn(100)"
   ]
  },
  {
   "cell_type": "code",
   "execution_count": 74,
   "id": "217a0647-aae3-488d-968c-d210c889f9cd",
   "metadata": {},
   "outputs": [
    {
     "data": {
      "text/plain": [
       "torch.Size([32, 100])"
      ]
     },
     "execution_count": 74,
     "metadata": {},
     "output_type": "execute_result"
    }
   ],
   "source": [
    "(emb.view(-1,6) @ W1 + b1).shape\n",
    "# 32 x 100 + b1? \n",
    "# 32, 100 \n",
    "#  1, 100 <---- broadcasting rule. starts from the right most. The empty dimension will be replaced with 1, and the value will be copied on this dim. (1-->32)"
   ]
  },
  {
   "cell_type": "code",
   "execution_count": 73,
   "id": "a4185979-fda1-41f1-87a8-4931e5af7cb1",
   "metadata": {},
   "outputs": [
    {
     "data": {
      "text/plain": [
       "torch.Size([32, 100])"
      ]
     },
     "execution_count": 73,
     "metadata": {},
     "output_type": "execute_result"
    }
   ],
   "source": [
    "h = torch.tanh(emb.view(-1,6) @ W1 + b1)\n",
    "h.shape"
   ]
  },
  {
   "cell_type": "code",
   "execution_count": 75,
   "id": "930c564c-0d24-474e-8ddb-3d7a2a614c72",
   "metadata": {},
   "outputs": [],
   "source": [
    "W2 = torch.randn((100, 27))\n",
    "b2 = torch.randn(27)"
   ]
  },
  {
   "cell_type": "code",
   "execution_count": 79,
   "id": "005d5eae-e0ce-4cba-8d3e-0f727271ef47",
   "metadata": {},
   "outputs": [
    {
     "name": "stdout",
     "output_type": "stream",
     "text": [
      "torch.Size([32, 27])\n",
      "tensor([1.0000, 1.0000, 1.0000, 1.0000, 1.0000, 1.0000, 1.0000, 1.0000, 1.0000,\n",
      "        1.0000, 1.0000, 1.0000, 1.0000, 1.0000, 1.0000, 1.0000, 1.0000, 1.0000,\n",
      "        1.0000, 1.0000, 1.0000, 1.0000, 1.0000, 1.0000, 1.0000, 1.0000, 1.0000,\n",
      "        1.0000, 1.0000, 1.0000, 1.0000, 1.0000])\n"
     ]
    }
   ],
   "source": [
    "logits = h @ W2 + b2 \n",
    "print(logits.shape)\n",
    "counts = logits.exp() \n",
    "probs = counts / counts.sum(1, keepdims=True) \n",
    "print(probs.sum(1))"
   ]
  },
  {
   "cell_type": "code",
   "execution_count": 82,
   "id": "e6081a0f-694c-4657-bd1b-36bec0bf2d3c",
   "metadata": {},
   "outputs": [
    {
     "data": {
      "text/plain": [
       "tensor([1.9658e-03, 3.0392e-04, 4.2395e-06, 3.5193e-05, 5.7438e-11, 1.0018e-03,\n",
       "        4.8308e-16, 3.8880e-12, 3.6279e-02, 1.1094e-14, 9.2756e-04, 5.4691e-10,\n",
       "        2.7275e-04, 2.0746e-03, 1.3650e-03, 9.2134e-06, 2.8197e-12, 5.2726e-07,\n",
       "        1.8524e-10, 4.4002e-16, 1.8582e-02, 1.9146e-11, 1.6499e-13, 2.0986e-04,\n",
       "        6.0006e-11, 2.0750e-09, 2.0190e-06, 6.1167e-12, 7.7565e-06, 2.6598e-08,\n",
       "        1.3555e-02, 3.7201e-11])"
      ]
     },
     "execution_count": 82,
     "metadata": {},
     "output_type": "execute_result"
    }
   ],
   "source": [
    "probs[torch.arange(32), Y] # probs assigned by the network to the target characters "
   ]
  },
  {
   "cell_type": "code",
   "execution_count": 87,
   "id": "c0ab21a0-d7f7-4466-a629-cffb19887c6e",
   "metadata": {},
   "outputs": [
    {
     "name": "stdout",
     "output_type": "stream",
     "text": [
      "tensor(16.5841)\n",
      "tensor(16.5841)\n"
     ]
    }
   ],
   "source": [
    "loss = - probs[torch.arange(32), Y].log().mean() # mean negative log likelihood loss --> cross entropy\n",
    "print(loss)\n",
    "loss = F.cross_entropy(logits, Y) # logtits as input. \n",
    "print(loss)\n",
    "\n",
    "# F.cross_entropy is more efficient and numerically stable. \n",
    "# 1) why more efficient? torch internally uses fused kernels for softmax+cross_entropy loss calculation. No shit tons of read/write. \n",
    "# 2) why more numerically stable? torch internally deals with numerical overflow. e^x --> e^x * e^(-x.max()). just offset the exponent. "
   ]
  },
  {
   "cell_type": "markdown",
   "id": "2ba4e5e0-f6f3-4973-8d62-628cc1813a78",
   "metadata": {},
   "source": [
    "## Let's find a proper learning rate!  "
   ]
  },
  {
   "cell_type": "code",
   "execution_count": 131,
   "id": "c26b5b18-adfd-4047-896f-b69fa7d308a3",
   "metadata": {},
   "outputs": [
    {
     "data": {
      "text/plain": [
       "(torch.Size([228146, 3]), torch.Size([228146]))"
      ]
     },
     "execution_count": 131,
     "metadata": {},
     "output_type": "execute_result"
    }
   ],
   "source": [
    "# create the dataset \n",
    "block_size = 3 # how many characters to take to predict the next character \n",
    "X, Y = [], [] \n",
    "\n",
    "for word in words:\n",
    "    # print(word)\n",
    "    context = [0] * block_size \n",
    "    for ch in word + '.':\n",
    "        ix = stoi[ch]\n",
    "        X.append(context)\n",
    "        Y.append(ix) \n",
    "        # print(''.join(itos[i] for i in context), '------>', itos[ix])    \n",
    "        context = context[1:] + [ix]\n",
    "\n",
    "X = torch.tensor(X)\n",
    "Y = torch.tensor(Y)\n",
    "\n",
    "X.shape, Y.shape"
   ]
  },
  {
   "cell_type": "code",
   "execution_count": 132,
   "id": "8a3935d7-e38e-4dfd-b6d1-f67259726547",
   "metadata": {},
   "outputs": [],
   "source": [
    "# parameters setting \n",
    "g = torch.Generator().manual_seed(2147483647)\n",
    "C = torch.randn((27, 2), generator=g)\n",
    "W1 = torch.randn((6, 100), generator=g)\n",
    "b1 = torch.randn(100, generator=g)\n",
    "W2 = torch.randn((100, 27), generator=g)\n",
    "b2 = torch.randn(27, generator=g)\n",
    "parameters = [C, W1, b1, W2, b2]"
   ]
  },
  {
   "cell_type": "code",
   "execution_count": 133,
   "id": "1013e70c-fd7b-4f85-afd0-a55061e61c62",
   "metadata": {},
   "outputs": [
    {
     "name": "stdout",
     "output_type": "stream",
     "text": [
      "number of parameters = 3481\n"
     ]
    }
   ],
   "source": [
    "print(f\"number of parameters = {sum(p.nelement() for p in parameters)}\")"
   ]
  },
  {
   "cell_type": "code",
   "execution_count": 134,
   "id": "d2f9682c-cd2c-4899-a432-c1d174aa5687",
   "metadata": {},
   "outputs": [],
   "source": [
    "for p in parameters:\n",
    "    p.requires_grad = True "
   ]
  },
  {
   "cell_type": "code",
   "execution_count": 135,
   "id": "30e0a5ba-8af7-41a7-8a81-37d39871427d",
   "metadata": {},
   "outputs": [],
   "source": [
    "# learning rate candidates \n",
    "lre = torch.linspace(-3, 0, 1000) # exponent\n",
    "lrs = 10 ** lre # 0.001 ~ 1.0 , 1000 candidates "
   ]
  },
  {
   "cell_type": "code",
   "execution_count": 136,
   "id": "bc5d9969-7d53-4fe6-ae86-0b88cfb84f57",
   "metadata": {
    "scrolled": true
   },
   "outputs": [],
   "source": [
    "lri = [] \n",
    "lossi = [] \n",
    "\n",
    "for k in range(1000):\n",
    "    # mini-batch \n",
    "    ix = torch.randint(0, X.shape[0], (32,))\n",
    "    # forward pass \n",
    "    emb = C[X[ix]] \n",
    "    h = torch.tanh(emb.view(-1,6) @ W1 + b1)\n",
    "    logits = h @ W2 + b2 \n",
    "    loss = F.cross_entropy(logits, Y[ix]) # logtits as input. \n",
    "    # if k%100 == 0:\n",
    "    #     print(f'loss = {loss.item()}')\n",
    "    # backward pass \n",
    "    for p in parameters:\n",
    "        p.grad = None \n",
    "    loss.backward() \n",
    "\n",
    "    lr = lrs[k] \n",
    "    for p in parameters:\n",
    "        p.data -= lr * p.grad \n",
    "    lri.append(lr)\n",
    "    lossi.append(loss.item())"
   ]
  },
  {
   "cell_type": "code",
   "execution_count": 141,
   "id": "e79523b2-e569-42e6-b654-6c01ab32b490",
   "metadata": {},
   "outputs": [
    {
     "data": {
      "text/plain": [
       "[<matplotlib.lines.Line2D at 0x147bc7520>]"
      ]
     },
     "execution_count": 141,
     "metadata": {},
     "output_type": "execute_result"
    },
    {
     "data": {
      "image/png": "[encoded data removed]",
      "text/plain": [
       "<Figure size 640x480 with 2 Axes>"
      ]
     },
     "metadata": {},
     "output_type": "display_data"
    }
   ],
   "source": [
    "plt.subplot(1, 2, 1)\n",
    "plt.plot(lri, lossi)\n",
    "plt.subplot(1, 2, 2)\n",
    "plt.plot(lre, lossi)"
   ]
  },
  {
   "cell_type": "code",
   "execution_count": 124,
   "id": "b6c27d4e-9500-42ab-8289-dfe65da32b9d",
   "metadata": {},
   "outputs": [
    {
     "data": {
      "text/plain": [
       "tensor(2.6878, grad_fn=<NllLossBackward0>)"
      ]
     },
     "execution_count": 124,
     "metadata": {},
     "output_type": "execute_result"
    }
   ],
   "source": [
    "# full-batch training loss\n",
    "emb = C[X] \n",
    "h = torch.tanh(emb.view(-1,6) @ W1 + b1)\n",
    "logits = h @ W2 + b2 \n",
    "loss = F.cross_entropy(logits, Y) \n",
    "loss"
   ]
  },
  {
   "cell_type": "markdown",
   "id": "b42913a4-bfbd-4908-ad78-9443c375f0ce",
   "metadata": {},
   "source": [
    "## Split the dataset and train! "
   ]
  },
  {
   "cell_type": "code",
   "execution_count": 562,
   "id": "e56e9b3e-4b20-4377-9b85-370b0ebf4af5",
   "metadata": {},
   "outputs": [
    {
     "name": "stdout",
     "output_type": "stream",
     "text": [
      "number of parameters = 17297\n"
     ]
    }
   ],
   "source": [
    "# parameters setting \n",
    "g = torch.Generator().manual_seed(2147483647)\n",
    "emb_dim = 10\n",
    "block_size = 4\n",
    "C = torch.randn((27, emb_dim), generator=g)\n",
    "W1 = torch.randn((emb_dim*block_size, 250), generator=g)\n",
    "b1 = torch.randn(250, generator=g)\n",
    "W2 = torch.randn((250, 27), generator=g)\n",
    "b2 = torch.randn(27, generator=g)\n",
    "parameters = [C, W1, b1, W2, b2]\n",
    "print(f\"number of parameters = {sum(p.nelement() for p in parameters)}\")\n",
    "for p in parameters:\n",
    "    p.requires_grad = True "
   ]
  },
  {
   "cell_type": "code",
   "execution_count": 531,
   "id": "c10474b9-28c7-403c-8e43-9d8a4dffe15e",
   "metadata": {},
   "outputs": [
    {
     "name": "stdout",
     "output_type": "stream",
     "text": [
      "torch.Size([182622, 4]) torch.Size([182622])\n",
      "torch.Size([22872, 4]) torch.Size([22872])\n",
      "torch.Size([22652, 4]) torch.Size([22652])\n"
     ]
    }
   ],
   "source": [
    "# create the dataset \n",
    "def build_dataset(words, block_size):\n",
    "    # block_size = 3 # how many characters to take to predict the next character \n",
    "    X, Y = [], [] \n",
    "    for word in words:\n",
    "        # print(word)\n",
    "        context = [0] * block_size \n",
    "        for ch in word + '.':\n",
    "            ix = stoi[ch]\n",
    "            X.append(context)\n",
    "            Y.append(ix) \n",
    "            # print(''.join(itos[i] for i in context), '------>', itos[ix])    \n",
    "            context = context[1:] + [ix]\n",
    "    \n",
    "    X = torch.tensor(X)\n",
    "    Y = torch.tensor(Y)\n",
    "    print(X.shape, Y.shape)\n",
    "    return X, Y \n",
    "\n",
    "random.seed(42)\n",
    "random.shuffle(words)\n",
    "n1 = int(len(words) * 0.8) \n",
    "n2 = int(len(words) * 0.9)\n",
    "\n",
    "Xtr, Ytr = build_dataset(words[:n1], block_size)\n",
    "Xdev, Ydev = build_dataset(words[n1:n2], block_size)\n",
    "Xte, Yte = build_dataset(words[n2:], block_size)"
   ]
  },
  {
   "cell_type": "code",
   "execution_count": 563,
   "id": "365e07bc-7ce2-4ba5-bbda-543caabf093a",
   "metadata": {},
   "outputs": [],
   "source": [
    "stepi = [] \n",
    "loglossi = [] "
   ]
  },
  {
   "cell_type": "code",
   "execution_count": 495,
   "id": "7ba5a7cf-de05-465b-a0f2-4d0823d453f1",
   "metadata": {},
   "outputs": [],
   "source": [
    "lre = torch.linspace(-3, 0, 1000) # exponent\n",
    "lrs = 10 ** lre # 0.001 ~ 1.0 , 1000 candidates "
   ]
  },
  {
   "cell_type": "code",
   "execution_count": 564,
   "id": "ce97009d-9b5d-4960-98f0-7517d5d18a0d",
   "metadata": {},
   "outputs": [],
   "source": [
    "for k in range(200000):\n",
    "    # mini-batch \n",
    "    ix = torch.randint(0, Xtr.shape[0], (32,))\n",
    "    # forward pass \n",
    "    emb = C[Xtr[ix]] \n",
    "    h = torch.tanh(emb.view(-1,emb_dim*block_size) @ W1 + b1)\n",
    "    logits = h @ W2 + b2 \n",
    "    loss = F.cross_entropy(logits, Ytr[ix]) # logtits as input. \n",
    "\n",
    "    # backward pass \n",
    "    for p in parameters:\n",
    "        p.grad = None \n",
    "    loss.backward() \n",
    "\n",
    "    lr = 0.2 - (0.2 - 0.01) / 200000 * k \n",
    "\n",
    "    for p in parameters:\n",
    "        p.data -= lr * p.grad \n",
    "    stepi.append(k)\n",
    "    loglossi.append(loss.log10().item())"
   ]
  },
  {
   "cell_type": "code",
   "execution_count": 497,
   "id": "c5d5e36e-8dd5-4b5c-bc2a-05514194b8ec",
   "metadata": {},
   "outputs": [
    {
     "data": {
      "text/plain": [
       "[<matplotlib.lines.Line2D at 0x2957af850>]"
      ]
     },
     "execution_count": 497,
     "metadata": {},
     "output_type": "execute_result"
    },
    {
     "data": {
      "image/png": "[encoded data removed]",
      "text/plain": [
       "<Figure size 640x480 with 2 Axes>"
      ]
     },
     "metadata": {},
     "output_type": "display_data"
    }
   ],
   "source": [
    "plt.subplot(1, 2, 1)\n",
    "plt.plot(lrs, loglossi)\n",
    "plt.subplot(1, 2, 2)\n",
    "plt.plot(lre, loglossi)"
   ]
  },
  {
   "cell_type": "code",
   "execution_count": 565,
   "id": "6a7be892-be5c-4657-84e6-fe0e0527f423",
   "metadata": {},
   "outputs": [
    {
     "data": {
      "text/plain": [
       "[<matplotlib.lines.Line2D at 0x337fb3d90>]"
      ]
     },
     "execution_count": 565,
     "metadata": {},
     "output_type": "execute_result"
    },
    {
     "data": {
      "image/png": "[encoded data removed]",
      "text/plain": [
       "<Figure size 640x480 with 1 Axes>"
      ]
     },
     "metadata": {},
     "output_type": "display_data"
    }
   ],
   "source": [
    "plt.plot(stepi, loglossi)"
   ]
  },
  {
   "cell_type": "code",
   "execution_count": 566,
   "id": "09e47fdc-6c2f-4587-94e4-cc4a08fb2a9c",
   "metadata": {},
   "outputs": [
    {
     "data": {
      "text/plain": [
       "tensor(2.0919, grad_fn=<NllLossBackward0>)"
      ]
     },
     "execution_count": 566,
     "metadata": {},
     "output_type": "execute_result"
    }
   ],
   "source": [
    "# loss for full training set \n",
    "emb = C[Xtr] \n",
    "h = torch.tanh(emb.view(-1,emb_dim*block_size) @ W1 + b1)\n",
    "logits = h @ W2 + b2 \n",
    "loss = F.cross_entropy(logits, Ytr) # logtits as input. \n",
    "loss"
   ]
  },
  {
   "cell_type": "code",
   "execution_count": 567,
   "id": "f708b37d-35da-4708-8a68-d7d74a4d32ba",
   "metadata": {},
   "outputs": [
    {
     "data": {
      "text/plain": [
       "tensor(2.1666, grad_fn=<NllLossBackward0>)"
      ]
     },
     "execution_count": 567,
     "metadata": {},
     "output_type": "execute_result"
    }
   ],
   "source": [
    "emb = C[Xdev] \n",
    "h = torch.tanh(emb.view(-1,emb_dim*block_size) @ W1 + b1)\n",
    "logits = h @ W2 + b2 \n",
    "loss = F.cross_entropy(logits, Ydev) # logtits as input. \n",
    "loss"
   ]
  },
  {
   "cell_type": "code",
   "execution_count": 568,
   "id": "7ac5b420-55a7-4803-8093-fa97f09771b4",
   "metadata": {},
   "outputs": [
    {
     "data": {
      "text/plain": [
       "tensor(2.1749, grad_fn=<NllLossBackward0>)"
      ]
     },
     "execution_count": 568,
     "metadata": {},
     "output_type": "execute_result"
    }
   ],
   "source": [
    "emb = C[Xte] \n",
    "h = torch.tanh(emb.view(-1,emb_dim*block_size) @ W1 + b1)\n",
    "logits = h @ W2 + b2 \n",
    "loss = F.cross_entropy(logits, Yte) # logtits as input. \n",
    "loss"
   ]
  },
  {
   "cell_type": "code",
   "execution_count": 239,
   "id": "affefbd2-781d-47fc-be57-ae45dec649ba",
   "metadata": {},
   "outputs": [
    {
     "data": {
      "image/png": "[encoded data removed]",
      "text/plain": [
       "<Figure size 800x800 with 1 Axes>"
      ]
     },
     "metadata": {},
     "output_type": "display_data"
    }
   ],
   "source": [
    "plt.figure(figsize=(8,8))\n",
    "plt.scatter(C[:,0].data, C[:,1].data, s=200)\n",
    "for i in range(C.shape[0]):\n",
    "    plt.text(C[i,0].item(), C[i,1].item(), itos[i], ha='center', va='center', color='white')\n",
    "plt.grid('minor')"
   ]
  },
  {
   "cell_type": "code",
   "execution_count": null,
   "id": "bb64bd71-56c8-48e0-ad42-433f83066437",
   "metadata": {},
   "outputs": [],
   "source": []
  }
 ],
 "metadata": {
  "kernelspec": {
   "display_name": "Python 3 (ipykernel)",
   "language": "python",
   "name": "python3"
  },
  "language_info": {
   "codemirror_mode": {
    "name": "ipython",
    "version": 3
   },
   "file_extension": ".py",
   "mimetype": "text/x-python",
   "name": "python",
   "nbconvert_exporter": "python",
   "pygments_lexer": "ipython3",
   "version": "3.8.18"
  }
 },
 "nbformat": 4,
 "nbformat_minor": 5
}
