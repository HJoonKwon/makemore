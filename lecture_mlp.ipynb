{
 "cells": [
  {
   "cell_type": "code",
   "execution_count": 1,
   "id": "09119368-d62c-4be3-bd03-af7928f0f742",
   "metadata": {},
   "outputs": [],
   "source": [
    "import torch \n",
    "import torch.nn.functional as F \n",
    "import matplotlib.pyplot as plt \n",
    "%matplotlib inline "
   ]
  },
  {
   "cell_type": "code",
   "execution_count": 4,
   "id": "c33e3eff-9472-4b7d-8dcd-cdea26d98848",
   "metadata": {},
   "outputs": [
    {
     "data": {
      "text/plain": [
       "['emma', 'olivia', 'ava', 'isabella', 'sophia', 'charlotte', 'mia', 'amelia']"
      ]
     },
     "execution_count": 4,
     "metadata": {},
     "output_type": "execute_result"
    }
   ],
   "source": [
    "words = open('names.txt', 'r').read().splitlines() \n",
    "words[:8]"
   ]
  },
  {
   "cell_type": "code",
   "execution_count": 5,
   "id": "83fa978a-b4af-4d97-b6cf-df8451627521",
   "metadata": {},
   "outputs": [
    {
     "data": {
      "text/plain": [
       "32033"
      ]
     },
     "execution_count": 5,
     "metadata": {},
     "output_type": "execute_result"
    }
   ],
   "source": [
    "len(words)"
   ]
  },
  {
   "cell_type": "code",
   "execution_count": 16,
   "id": "2140aa25-4171-4a5a-99b2-54778f7fd99e",
   "metadata": {},
   "outputs": [
    {
     "name": "stdout",
     "output_type": "stream",
     "text": [
      "{1: 'a', 2: 'b', 3: 'c', 4: 'd', 5: 'e', 6: 'f', 7: 'g', 8: 'h', 9: 'i', 10: 'j', 11: 'k', 12: 'l', 13: 'm', 14: 'n', 15: 'o', 16: 'p', 17: 'q', 18: 'r', 19: 's', 20: 't', 21: 'u', 22: 'v', 23: 'w', 24: 'x', 25: 'y', 26: 'z', 0: '.'}\n"
     ]
    }
   ],
   "source": [
    "# build vocabulary of characters \n",
    "chars = sorted(list(set(''.join(word for word in words))))\n",
    "stoi = {ch: i+1 for i, ch in enumerate(chars)}\n",
    "stoi['.'] = 0 \n",
    "itos = {i: ch for ch, i in stoi.items()}\n",
    "print(itos)"
   ]
  },
  {
   "cell_type": "code",
   "execution_count": 24,
   "id": "1ba3c7ca-287e-4db3-a4b0-a802f6d8100e",
   "metadata": {},
   "outputs": [
    {
     "name": "stdout",
     "output_type": "stream",
     "text": [
      "emma\n",
      "... ------> e\n",
      "..e ------> m\n",
      ".em ------> m\n",
      "emm ------> a\n",
      "mma ------> .\n",
      "olivia\n",
      "... ------> o\n",
      "..o ------> l\n",
      ".ol ------> i\n",
      "oli ------> v\n",
      "liv ------> i\n",
      "ivi ------> a\n",
      "via ------> .\n",
      "ava\n",
      "... ------> a\n",
      "..a ------> v\n",
      ".av ------> a\n",
      "ava ------> .\n",
      "isabella\n",
      "... ------> i\n",
      "..i ------> s\n",
      ".is ------> a\n",
      "isa ------> b\n",
      "sab ------> e\n",
      "abe ------> l\n",
      "bel ------> l\n",
      "ell ------> a\n",
      "lla ------> .\n",
      "sophia\n",
      "... ------> s\n",
      "..s ------> o\n",
      ".so ------> p\n",
      "sop ------> h\n",
      "oph ------> i\n",
      "phi ------> a\n",
      "hia ------> .\n"
     ]
    }
   ],
   "source": [
    "# build the dataset \n",
    "\n",
    "block_size = 3 # how many characters to take to predict the next character \n",
    "X, Y = [], [] \n",
    "\n",
    "for word in words[:5]:\n",
    "    print(word)\n",
    "    context = [0] * block_size \n",
    "    for ch in word + '.':\n",
    "        ix = stoi[ch]\n",
    "        X.append(context)\n",
    "        Y.append(ix) \n",
    "        print(''.join(itos[i] for i in context), '------>', itos[ix])    \n",
    "        context = context[1:] + [ix]\n",
    "\n",
    "X = torch.tensor(X)\n",
    "Y = torch.tensor(Y)"
   ]
  },
  {
   "cell_type": "code",
   "execution_count": 26,
   "id": "1131d223-b935-4f23-b8f6-2e4fa8084c73",
   "metadata": {},
   "outputs": [
    {
     "data": {
      "text/plain": [
       "(torch.Size([32, 3]), torch.int64, torch.Size([32]), torch.int64)"
      ]
     },
     "execution_count": 26,
     "metadata": {},
     "output_type": "execute_result"
    }
   ],
   "source": [
    "X.shape, X.dtype, Y.shape, Y.dtype"
   ]
  },
  {
   "cell_type": "code",
   "execution_count": 31,
   "id": "ecb9343f-4035-408b-9038-dc326d4ade92",
   "metadata": {},
   "outputs": [],
   "source": [
    "C = torch.randn((27, 2)) # embedding vectors "
   ]
  },
  {
   "cell_type": "code",
   "execution_count": 35,
   "id": "3722d4b1-0589-4a7a-935f-a354dbe5bf6e",
   "metadata": {},
   "outputs": [
    {
     "data": {
      "text/plain": [
       "tensor([ 0.2433, -0.2403])"
      ]
     },
     "execution_count": 35,
     "metadata": {},
     "output_type": "execute_result"
    }
   ],
   "source": [
    "# 1. One way of getting embedding vector is to pluck out with index \n",
    "C[5]"
   ]
  },
  {
   "cell_type": "code",
   "execution_count": 37,
   "id": "8b386470-590d-4bb6-854c-b31cdde28b23",
   "metadata": {},
   "outputs": [
    {
     "data": {
      "text/plain": [
       "tensor([ 0.2433, -0.2403])"
      ]
     },
     "execution_count": 37,
     "metadata": {},
     "output_type": "execute_result"
    }
   ],
   "source": [
    "# 2. The other way is using one hot vector and do matrix multiplication --> same result, but inefficient.  \n",
    "xenc = F.one_hot(torch.tensor(5), num_classes = 27).float()\n",
    "xenc @ C "
   ]
  },
  {
   "cell_type": "code",
   "execution_count": 39,
   "id": "e9505ae3-a1e7-4476-8cb7-b98ef5adf212",
   "metadata": {},
   "outputs": [
    {
     "data": {
      "text/plain": [
       "torch.Size([32, 3, 2])"
      ]
     },
     "execution_count": 39,
     "metadata": {},
     "output_type": "execute_result"
    }
   ],
   "source": [
    "C[X].shape # indexing can be multi-dimensional --> num of examples x num of chars x embed dim "
   ]
  },
  {
   "cell_type": "code",
   "execution_count": 45,
   "id": "e0df8f8b-8b15-42f1-802d-d8435ffff680",
   "metadata": {},
   "outputs": [
    {
     "data": {
      "text/plain": [
       "tensor([True, True])"
      ]
     },
     "execution_count": 45,
     "metadata": {},
     "output_type": "execute_result"
    }
   ],
   "source": [
    "C[X][13,2] == C[X[13,2]]"
   ]
  },
  {
   "cell_type": "code",
   "execution_count": 69,
   "id": "36f2eb4d-d4f8-41a1-bef4-5283c87da0df",
   "metadata": {},
   "outputs": [
    {
     "name": "stdout",
     "output_type": "stream",
     "text": [
      "torch.Size([32, 3, 2])\n",
      "tensor(True)\n",
      "torch.Size([32, 6])\n"
     ]
    }
   ],
   "source": [
    "emb = C[X] \n",
    "print(emb.shape)\n",
    "print((emb.view(-1, 6) == torch.concat(torch.unbind(emb, 1), 1)).all()) # (32 x 3 x 2) --> unbind(1) --> (32 x 2), (32 x 2), (32 x 2) --> concat --> (32 x 6) \n",
    "# view() is more efficient than unbind+concat. Does not have to create/copy/move data/memory.  \n",
    "print(emb.view(-1, 6).shape)"
   ]
  },
  {
   "cell_type": "code",
   "execution_count": 70,
   "id": "36a49f70-d3ef-4fd4-a7f2-90faca4d91ef",
   "metadata": {},
   "outputs": [],
   "source": [
    "W1 = torch.randn(6, 100)\n",
    "b1 = torch.randn(100)"
   ]
  },
  {
   "cell_type": "code",
   "execution_count": 74,
   "id": "217a0647-aae3-488d-968c-d210c889f9cd",
   "metadata": {},
   "outputs": [
    {
     "data": {
      "text/plain": [
       "torch.Size([32, 100])"
      ]
     },
     "execution_count": 74,
     "metadata": {},
     "output_type": "execute_result"
    }
   ],
   "source": [
    "(emb.view(-1,6) @ W1 + b1).shape\n",
    "# 32 x 100 + b1? \n",
    "# 32, 100 \n",
    "#  1, 100 <---- broadcasting rule. starts from the right most. The empty dimension will be replaced with 1, and the value will be copied on this dim. (1-->32)"
   ]
  },
  {
   "cell_type": "code",
   "execution_count": 73,
   "id": "a4185979-fda1-41f1-87a8-4931e5af7cb1",
   "metadata": {},
   "outputs": [
    {
     "data": {
      "text/plain": [
       "torch.Size([32, 100])"
      ]
     },
     "execution_count": 73,
     "metadata": {},
     "output_type": "execute_result"
    }
   ],
   "source": [
    "h = torch.tanh(emb.view(-1,6) @ W1 + b1)\n",
    "h.shape"
   ]
  },
  {
   "cell_type": "code",
   "execution_count": 75,
   "id": "930c564c-0d24-474e-8ddb-3d7a2a614c72",
   "metadata": {},
   "outputs": [],
   "source": [
    "W2 = torch.randn((100, 27))\n",
    "b2 = torch.randn(27)"
   ]
  },
  {
   "cell_type": "code",
   "execution_count": 79,
   "id": "005d5eae-e0ce-4cba-8d3e-0f727271ef47",
   "metadata": {},
   "outputs": [
    {
     "name": "stdout",
     "output_type": "stream",
     "text": [
      "torch.Size([32, 27])\n",
      "tensor([1.0000, 1.0000, 1.0000, 1.0000, 1.0000, 1.0000, 1.0000, 1.0000, 1.0000,\n",
      "        1.0000, 1.0000, 1.0000, 1.0000, 1.0000, 1.0000, 1.0000, 1.0000, 1.0000,\n",
      "        1.0000, 1.0000, 1.0000, 1.0000, 1.0000, 1.0000, 1.0000, 1.0000, 1.0000,\n",
      "        1.0000, 1.0000, 1.0000, 1.0000, 1.0000])\n"
     ]
    }
   ],
   "source": [
    "logits = h @ W2 + b2 \n",
    "print(logits.shape)\n",
    "counts = logits.exp() \n",
    "probs = counts / counts.sum(1, keepdims=True) \n",
    "print(probs.sum(1))"
   ]
  },
  {
   "cell_type": "code",
   "execution_count": null,
   "id": "e6081a0f-694c-4657-bd1b-36bec0bf2d3c",
   "metadata": {},
   "outputs": [],
   "source": []
  }
 ],
 "metadata": {
  "kernelspec": {
   "display_name": "Python 3 (ipykernel)",
   "language": "python",
   "name": "python3"
  },
  "language_info": {
   "codemirror_mode": {
    "name": "ipython",
    "version": 3
   },
   "file_extension": ".py",
   "mimetype": "text/x-python",
   "name": "python",
   "nbconvert_exporter": "python",
   "pygments_lexer": "ipython3",
   "version": "3.8.18"
  }
 },
 "nbformat": 4,
 "nbformat_minor": 5
}
