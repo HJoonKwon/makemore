{
 "cells": [
  {
   "cell_type": "code",
   "execution_count": 8,
   "id": "693aca56-af7a-414e-bbdd-35aba84551cb",
   "metadata": {},
   "outputs": [],
   "source": [
    "import torch \n",
    "import torch.nn.functional as F \n",
    "import matplotlib.pyplot as plt \n",
    "import random\n",
    "%matplotlib inline "
   ]
  },
  {
   "cell_type": "code",
   "execution_count": 3,
   "id": "e7910d17-d6cf-4572-8e47-9bb205ff9ad4",
   "metadata": {},
   "outputs": [
    {
     "data": {
      "text/plain": [
       "['emma', 'olivia', 'ava', 'isabella', 'sophia', 'charlotte', 'mia', 'amelia']"
      ]
     },
     "execution_count": 3,
     "metadata": {},
     "output_type": "execute_result"
    }
   ],
   "source": [
    "words = open('names.txt', 'r').read().splitlines() \n",
    "words[:8]"
   ]
  },
  {
   "cell_type": "code",
   "execution_count": 4,
   "id": "3fdf7541-ba79-4ae7-83c8-332325c02d04",
   "metadata": {},
   "outputs": [
    {
     "data": {
      "text/plain": [
       "32033"
      ]
     },
     "execution_count": 4,
     "metadata": {},
     "output_type": "execute_result"
    }
   ],
   "source": [
    "len(words)"
   ]
  },
  {
   "cell_type": "code",
   "execution_count": 12,
   "id": "26483214-b7b3-47d4-826f-9bdf3e811daa",
   "metadata": {},
   "outputs": [
    {
     "name": "stdout",
     "output_type": "stream",
     "text": [
      "{1: 'a', 2: 'b', 3: 'c', 4: 'd', 5: 'e', 6: 'f', 7: 'g', 8: 'h', 9: 'i', 10: 'j', 11: 'k', 12: 'l', 13: 'm', 14: 'n', 15: 'o', 16: 'p', 17: 'q', 18: 'r', 19: 's', 20: 't', 21: 'u', 22: 'v', 23: 'w', 24: 'x', 25: 'y', 26: 'z', 0: '.'}\n",
      "27\n"
     ]
    }
   ],
   "source": [
    "# build vocabulary of characters \n",
    "chars = sorted(list(set(''.join(word for word in words))))\n",
    "stoi = {ch: i+1 for i, ch in enumerate(chars)}\n",
    "stoi['.'] = 0 \n",
    "itos = {i: ch for ch, i in stoi.items()}\n",
    "print(itos)\n",
    "vocab_size = len(stoi)\n",
    "print(vocab_size)"
   ]
  },
  {
   "cell_type": "code",
   "execution_count": 10,
   "id": "d48d5a53-ad5d-460d-8b36-5cff3e8967d5",
   "metadata": {},
   "outputs": [
    {
     "name": "stdout",
     "output_type": "stream",
     "text": [
      "torch.Size([182580, 3]) torch.Size([182580])\n",
      "torch.Size([22767, 3]) torch.Size([22767])\n",
      "torch.Size([22799, 3]) torch.Size([22799])\n"
     ]
    }
   ],
   "source": [
    "# create the dataset \n",
    "def build_dataset(words, block_size):\n",
    "    # block_size = 3 # how many characters to take to predict the next character \n",
    "    X, Y = [], [] \n",
    "    for word in words:\n",
    "        # print(word)\n",
    "        context = [0] * block_size \n",
    "        for ch in word + '.':\n",
    "            ix = stoi[ch]\n",
    "            X.append(context)\n",
    "            Y.append(ix) \n",
    "            # print(''.join(itos[i] for i in context), '------>', itos[ix])    \n",
    "            context = context[1:] + [ix]\n",
    "    \n",
    "    X = torch.tensor(X)\n",
    "    Y = torch.tensor(Y)\n",
    "    print(X.shape, Y.shape)\n",
    "    return X, Y \n",
    "\n",
    "random.seed(42)\n",
    "random.shuffle(words)\n",
    "n1 = int(len(words) * 0.8) \n",
    "n2 = int(len(words) * 0.9)\n",
    "\n",
    "block_size = 3 \n",
    "\n",
    "Xtr, Ytr = build_dataset(words[:n1], block_size)     # 80%\n",
    "Xdev, Ydev = build_dataset(words[n1:n2], block_size) # 10%\n",
    "Xte, Yte = build_dataset(words[n2:], block_size)     # 10%"
   ]
  },
  {
   "cell_type": "code",
   "execution_count": 18,
   "id": "b01f735f-5dcb-4978-9483-0ebc6b9b5fa4",
   "metadata": {},
   "outputs": [
    {
     "name": "stdout",
     "output_type": "stream",
     "text": [
      "number of parameters = 11897\n"
     ]
    }
   ],
   "source": [
    "# parameters setting \n",
    "g = torch.Generator().manual_seed(2147483647)\n",
    "n_embd = 10\n",
    "n_hidden = 200 \n",
    "C = torch.randn((vocab_size, n_embd),              generator=g)\n",
    "W1 = torch.randn((n_embd * block_size, n_hidden), generator=g)\n",
    "b1 = torch.randn(n_hidden,                         generator=g)\n",
    "W2 = torch.randn((n_hidden, vocab_size),           generator=g)\n",
    "b2 = torch.randn(vocab_size,                       generator=g)\n",
    "parameters = [C, W1, b1, W2, b2]\n",
    "print(f\"number of parameters = {sum(p.nelement() for p in parameters)}\")\n",
    "for p in parameters:\n",
    "    p.requires_grad = True "
   ]
  },
  {
   "cell_type": "code",
   "execution_count": 19,
   "id": "67678dfa-2837-45b1-a90b-986faa40d77e",
   "metadata": {},
   "outputs": [
    {
     "name": "stdout",
     "output_type": "stream",
     "text": [
      "      0/ 200000: 30.057610\n",
      "  10000/ 200000: 2.793761\n",
      "  20000/ 200000: 2.473219\n",
      "  30000/ 200000: 2.394586\n",
      "  40000/ 200000: 2.483547\n",
      "  50000/ 200000: 2.182031\n",
      "  60000/ 200000: 2.544908\n",
      "  70000/ 200000: 2.044548\n",
      "  80000/ 200000: 2.107980\n",
      "  90000/ 200000: 2.420152\n",
      " 100000/ 200000: 2.140246\n",
      " 110000/ 200000: 2.372448\n",
      " 120000/ 200000: 2.080673\n",
      " 130000/ 200000: 2.110626\n",
      " 140000/ 200000: 2.267228\n",
      " 150000/ 200000: 1.897252\n",
      " 160000/ 200000: 2.324197\n",
      " 170000/ 200000: 1.846606\n",
      " 180000/ 200000: 2.657354\n",
      " 190000/ 200000: 1.775505\n"
     ]
    }
   ],
   "source": [
    "max_steps = 200000\n",
    "batch_size = 32 \n",
    "lossi = [] \n",
    "\n",
    "for i in range(max_steps):\n",
    "    \n",
    "    # mini-batch \n",
    "    ix = torch.randint(0, Xtr.shape[0], (batch_size,))\n",
    "    Xb, Yb = Xtr[ix], Ytr[ix]\n",
    "    \n",
    "    # forward pass \n",
    "    emb = C[Xb] \n",
    "    embcat = emb.view(-1, n_embd * block_size)\n",
    "    hpreact = embcat @ W1 + b1\n",
    "    h = torch.tanh(hpreact)\n",
    "    logits = h @ W2 + b2 \n",
    "    loss = F.cross_entropy(logits, Yb) # logtits as input. \n",
    "\n",
    "    # backward pass \n",
    "    for p in parameters:\n",
    "        p.grad = None \n",
    "    loss.backward() \n",
    "\n",
    "    lr = 0.1 if i < 100000 else 0.01 \n",
    "    for p in parameters:\n",
    "        p.data -= lr * p.grad \n",
    "        \n",
    "    if i % 10000 == 0:\n",
    "        print(f\"{i:7d}/{max_steps:7d}: {loss.item():4f}\")\n",
    "    lossi.append(loss.log10().item())"
   ]
  },
  {
   "cell_type": "code",
   "execution_count": 20,
   "id": "5184bc63-c736-495f-bff7-dfb050957975",
   "metadata": {},
   "outputs": [
    {
     "data": {
      "text/plain": [
       "[<matplotlib.lines.Line2D at 0x150296160>]"
      ]
     },
     "execution_count": 20,
     "metadata": {},
     "output_type": "execute_result"
    },
    {
     "data": {
      "image/png": "[encoded data removed]",
      "text/plain": [
       "<Figure size 640x480 with 1 Axes>"
      ]
     },
     "metadata": {},
     "output_type": "display_data"
    }
   ],
   "source": [
    "plt.plot(lossi)"
   ]
  },
  {
   "cell_type": "code",
   "execution_count": 24,
   "id": "26fe959e-8e39-473a-a2cf-e0907e36a3e4",
   "metadata": {},
   "outputs": [],
   "source": [
    "@torch.no_grad() \n",
    "def split_loss(split):\n",
    "    x, y = {\n",
    "        'train': (Xtr, Ytr),\n",
    "        'val': (Xdev, Ydev),\n",
    "        'test': (Xte, Yte)\n",
    "    }[split]\n",
    "    emb = C[x] \n",
    "    embcat = emb.view(-1, n_embd * block_size)\n",
    "    hpreact = embcat @ W1 + b1\n",
    "    h = torch.tanh(hpreact)\n",
    "    logits = h @ W2 + b2 \n",
    "    loss = F.cross_entropy(logits, y)\n",
    "    print(split, loss.item())"
   ]
  },
  {
   "cell_type": "code",
   "execution_count": 25,
   "id": "6d5ec193-61d8-43d5-a888-0f43aa188b88",
   "metadata": {},
   "outputs": [
    {
     "name": "stdout",
     "output_type": "stream",
     "text": [
      "train 2.1392390727996826\n",
      "val 2.179316759109497\n"
     ]
    }
   ],
   "source": [
    "split_loss('train')\n",
    "split_loss('val')"
   ]
  },
  {
   "cell_type": "code",
   "execution_count": 27,
   "id": "a313e592-a7f9-4a3c-9d77-86f94105516d",
   "metadata": {},
   "outputs": [
    {
     "name": "stdout",
     "output_type": "stream",
     "text": [
      "dex.\n",
      "malomonie.\n",
      "rochitah.\n",
      "melliston.\n",
      "inrlenak.\n",
      "katha.\n",
      "samiyah.\n",
      "javer.\n",
      "gotai.\n",
      "molie.\n",
      "caiu.\n",
      "kented.\n",
      "jena.\n",
      "millsede.\n",
      "enkamirry.\n",
      "folsp.\n",
      "huckennatallys.\n",
      "dasdro.\n",
      "leenley.\n",
      "alaisa.\n"
     ]
    }
   ],
   "source": [
    "# sampling \n",
    "\n",
    "g = torch.Generator().manual_seed(2147483647)\n",
    "\n",
    "for _ in range(20):\n",
    "    out = [] \n",
    "    context = [0] * block_size \n",
    "    while True:\n",
    "        emb = C[context] \n",
    "        embcat = emb.view(-1, n_embd * block_size)\n",
    "        hpreact = embcat @ W1 + b1\n",
    "        h = torch.tanh(hpreact)\n",
    "        logits = h @ W2 + b2 \n",
    "        probs = F.softmax(logits, dim=1)\n",
    "        ix = torch.multinomial(probs, num_samples=1, replacement=True, generator=g).item()\n",
    "        context = context[1:] + [ix] \n",
    "        out.append(ix)\n",
    "        if ix==0:\n",
    "            break\n",
    "    print(''.join(itos[ix] for ix in out))"
   ]
  },
  {
   "cell_type": "code",
   "execution_count": null,
   "id": "71d59598-7b9e-4de3-9ca1-f2d353bc96cd",
   "metadata": {},
   "outputs": [],
   "source": []
  }
 ],
 "metadata": {
  "kernelspec": {
   "display_name": "Python 3 (ipykernel)",
   "language": "python",
   "name": "python3"
  },
  "language_info": {
   "codemirror_mode": {
    "name": "ipython",
    "version": 3
   },
   "file_extension": ".py",
   "mimetype": "text/x-python",
   "name": "python",
   "nbconvert_exporter": "python",
   "pygments_lexer": "ipython3",
   "version": "3.8.18"
  }
 },
 "nbformat": 4,
 "nbformat_minor": 5
}
